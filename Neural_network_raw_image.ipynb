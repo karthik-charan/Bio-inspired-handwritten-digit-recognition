{
 "cells": [
  {
   "cell_type": "code",
   "execution_count": 11,
   "id": "ea06d5aa",
   "metadata": {},
   "outputs": [],
   "source": [
    "# Import necessary packages\n",
    "%matplotlib inline\n",
    "%config InlineBackend.figure_format = 'retina'\n",
    "\n",
    "import numpy as np\n",
    "import torch\n",
    "import torchvision\n",
    "from torch import nn\n",
    "from sklearn.preprocessing import OneHotEncoder\n",
    "import matplotlib.pyplot as plt\n",
    "from dataloader import FFT_transform_PM\n",
    "from time import time\n",
    "import os"
   ]
  },
  {
   "cell_type": "code",
   "execution_count": 13,
   "id": "a95844af",
   "metadata": {},
   "outputs": [],
   "source": [
    "def next_batch(num, data, labels):\n",
    "    '''\n",
    "    Return a total of `num` random samples and labels. \n",
    "    '''\n",
    "    idx = np.arange(0 , len(data))\n",
    "    np.random.shuffle(idx)\n",
    "    idx = idx[:num]\n",
    "\n",
    "    data_shuffle = [data[ i] for i in idx]\n",
    "    labels_shuffle = [labels[ i] for i in idx]\n",
    "\n",
    "    return np.asarray(data_shuffle), np.asarray(labels_shuffle)"
   ]
  },
  {
   "cell_type": "code",
   "execution_count": 43,
   "id": "d072ac4d",
   "metadata": {},
   "outputs": [],
   "source": [
    "#I'm using the dataloading code that you uploaded\n",
    "entries = os.listdir('Data/')\n",
    "\n",
    "#Importing training data\n",
    "train_data=[k for k in entries if 'train' in k]\n",
    "\n",
    "X_title_train=[]\n",
    "flat_data_train=[]\n",
    "flat_data_train_raw=[]\n",
    "X_data_train = []\n",
    "X_data_train_phase=[]\n",
    "X_data_train_raw = []\n",
    "flat_data_train_phase=[]\n",
    "for entry in train_data:\n",
    "    name=entry\n",
    "    #print(entry)\n",
    "    with open('Data/'+name) as f:\n",
    "        #print(f)\n",
    "        for line in f:\n",
    "            curr = line.strip()\n",
    "            mat = np.fromstring(curr, dtype=int, sep='  ')\n",
    "            mat_r = np.reshape(mat, (-1, 15))\n",
    "            X_data_train_raw.append(mat_r)\n",
    "            \n",
    "            #here we apply the FFT transform\n",
    "            mag_val,phase_val = FFT_transform_PM(mat_r)\n",
    "            #break\n",
    "            X_data_train.append(mag_val)\n",
    "            X_data_train_phase.append(phase_val)\n",
    "            X_title_train.append(name)\n",
    "            flat_data_train.append(mag_val.flatten())\n",
    "            flat_data_train_phase.append(phase_val.flatten())\n",
    "            flat_data_train_raw.append(mat_r.flatten())\n",
    "    #X_data_train.append(mag_val)\n",
    "    #X_data.append (image)\n",
    "\n",
    "#Importing test data\n",
    "test_data=[k for k in entries if 'test' in k]\n",
    "#print(test_data)\n",
    "X_title_test=[]\n",
    "X_data_test = []\n",
    "flat_data_test=[]\n",
    "X_data_test_phase=[]\n",
    "X_data_test_raw=[]\n",
    "flat_data_test_phase=[]\n",
    "flat_data_test_raw=[]\n",
    "for entry in test_data:\n",
    "    name=entry\n",
    "    #print(entry)\n",
    "    with open('Data/'+name) as f:\n",
    "        #print(f)\n",
    "        for line in f:\n",
    "            curr = line.strip()\n",
    "            mat = np.fromstring(curr, dtype=int, sep='  ')\n",
    "            mat_r = np.reshape(mat, (-1, 15))\n",
    "            X_data_test_raw.append(mat_r)\n",
    "\n",
    "            mag_val,phase_val = FFT_transform_PM(mat_r)\n",
    "            #break\n",
    "            X_data_test.append(mag_val)\n",
    "            X_data_test_phase.append(phase_val)\n",
    "            X_title_test.append(name)\n",
    "            flat_data_test.append(mag_val.flatten())\n",
    "            flat_data_test_phase.append(phase_val.flatten())\n",
    "            flat_data_test_raw.append(mat_r.flatten())\n",
    "    #X_data.append (image)\n",
    "\n",
    "#calculate the labels of the data\n",
    "res_train=[]\n",
    "res_train = [sub.replace('.txt', '') for sub in X_title_train]\n",
    "res_train = [sub.replace('train_', '') for sub in res_train]\n",
    "res_train = [eval(i) for i in res_train]\n",
    "X_train_lable=res_train\n",
    "res_test=[]\n",
    "res_test = [sub.replace('.txt', '') for sub in X_title_test]\n",
    "res_test = [sub.replace('test_', '') for sub in res_test]\n",
    "res_test = [eval(i) for i in res_test]\n",
    "X_test_lable=res_test\n",
    "\n",
    "\n",
    "x_train=flat_data_train\n",
    "x_train_raw=flat_data_train_raw\n",
    "x_train_phase= flat_data_train_phase # added the phase values \n",
    "#here I just convert nan to numbers but we might want to look deeper into where the nan values are coming from in the first place\n",
    "x_train=np.nan_to_num(x_train)\n",
    "x_train_raw=np.nan_to_num(x_train_raw)\n",
    "x_train_phase = np.nan_to_num(x_train_phase)\n",
    "#print(len(flat_data_train))\n",
    "y_train_temp = X_train_lable\n",
    "y_train = [float(temp_y) for temp_y in y_train_temp] #Converting to Float; for softmax at output (not mandatory)\n",
    "\n",
    "x_test=flat_data_test\n",
    "x_test_raw=flat_data_test_raw\n",
    "x_test_phase = flat_data_test_phase\n",
    "x_test=np.nan_to_num(x_test)\n",
    "x_test_phase= np.nan_to_num(x_test_phase)\n",
    "y_test_temp = X_test_lable\n",
    "y_test = [float(temp_yy) for temp_yy in y_test_temp] #Converting to Float; for softmax at output (not mandatory)\n",
    "\n",
    "#One hot encoding the class labels\n",
    "enc = OneHotEncoder(handle_unknown='ignore')\n",
    "enc_y_train = np.array(y_train)\n",
    "enc_y_train = enc_y_train.reshape(-1, 1)\n",
    "\n",
    "enc_y_test = np.array(y_test)\n",
    "enc_y_test = enc_y_test.reshape(-1, 1)\n",
    "\n",
    "enc.fit(enc_y_train)\n",
    "# print(\"Categories:\", enc.categories_)\n",
    "n_y_train = enc.transform(enc_y_train).toarray()\n",
    "n_y_test = enc.transform(enc_y_test).toarray()"
   ]
  },
  {
   "cell_type": "code",
   "execution_count": 44,
   "id": "026c7378",
   "metadata": {},
   "outputs": [
    {
     "name": "stdout",
     "output_type": "stream",
     "text": [
      "Sequential(\n",
      "  (0): Linear(in_features=240, out_features=128, bias=True)\n",
      "  (1): ReLU()\n",
      "  (2): Linear(in_features=128, out_features=64, bias=True)\n",
      "  (3): ReLU()\n",
      "  (4): Linear(in_features=64, out_features=10, bias=True)\n",
      "  (5): LogSoftmax(dim=1)\n",
      ")\n"
     ]
    }
   ],
   "source": [
    "# Layer details for the neural network\n",
    "input_size = 240\n",
    "hidden_sizes = [128, 64]\n",
    "output_size = 10\n",
    "\n",
    "# Build a feed-forward network\n",
    "model = nn.Sequential(nn.Linear(input_size, hidden_sizes[0]),\n",
    "                      nn.ReLU(),\n",
    "                      nn.Linear(hidden_sizes[0], hidden_sizes[1]),\n",
    "                      nn.ReLU(),\n",
    "                      nn.Linear(hidden_sizes[1], output_size),\n",
    "                      nn.LogSoftmax(dim=1))\n",
    "print(model)     "
   ]
  },
  {
   "cell_type": "code",
   "execution_count": 68,
   "id": "e8f19f14",
   "metadata": {},
   "outputs": [],
   "source": [
    "criterion = nn.NLLLoss()\n",
    "# images, labels = next(iter(trainloader))\n",
    "# images = images.view(images.shape[0], -1)\n",
    "batch_size = 100\n",
    "batch_x, batch_y = next_batch(batch_size, x_train_raw, y_train)\n",
    "batch_x_tensor = torch.from_numpy(batch_x)\n",
    "batch_x_tensor = batch_x_tensor.to(torch.float32)\n",
    "\n",
    "batch_y_tensor = torch.from_numpy(batch_y)\n",
    "batch_y_tensor = batch_y_tensor.type(torch.LongTensor)\n",
    "\n",
    "logps = model(batch_x_tensor)\n",
    "loss = criterion(logps, batch_y_tensor)"
   ]
  },
  {
   "cell_type": "code",
   "execution_count": 69,
   "id": "af64916b",
   "metadata": {},
   "outputs": [
    {
     "name": "stdout",
     "output_type": "stream",
     "text": [
      "tensor([7, 5, 2, 5, 5, 4, 4, 2, 0, 2, 3, 8, 2, 7, 2, 1, 6, 7, 3, 7, 1, 0, 9, 7,\n",
      "        0, 7, 0, 2, 4, 9, 2, 9, 8, 6, 6, 3, 8, 2, 8, 8, 5, 5, 8, 0, 5, 2, 3, 9,\n",
      "        8, 2, 0, 1, 5, 6, 5, 0, 7, 9, 8, 8, 8, 5, 7, 2, 5, 9, 6, 6, 4, 1, 9, 2,\n",
      "        1, 5, 5, 6, 3, 2, 0, 0, 3, 7, 7, 8, 9, 8, 5, 9, 9, 9, 8, 4, 5, 6, 2, 7,\n",
      "        0, 8, 5, 9])\n"
     ]
    }
   ],
   "source": [
    "print(batch_y_tensor)"
   ]
  },
  {
   "cell_type": "code",
   "execution_count": 70,
   "id": "9baf6c8e",
   "metadata": {},
   "outputs": [
    {
     "name": "stdout",
     "output_type": "stream",
     "text": [
      "Before backward pass: \n",
      " tensor([[ 0.0067,  0.0080,  0.0111,  ...,  0.0053,  0.0030,  0.0008],\n",
      "        [-0.0010,  0.0002,  0.0065,  ..., -0.0070, -0.0067, -0.0034],\n",
      "        [-0.0138, -0.0169, -0.0198,  ..., -0.0006, -0.0017, -0.0035],\n",
      "        ...,\n",
      "        [-0.0019, -0.0038, -0.0029,  ...,  0.0018,  0.0027,  0.0013],\n",
      "        [-0.0123, -0.0129, -0.0112,  ..., -0.0032, -0.0040, -0.0024],\n",
      "        [-0.0016, -0.0023, -0.0008,  ...,  0.0080,  0.0082,  0.0010]])\n",
      "After backward pass: \n",
      " tensor([[ 0.0109,  0.0178,  0.0243,  ...,  0.0079,  0.0064,  0.0021],\n",
      "        [-0.0014, -0.0020, -0.0036,  ..., -0.0211, -0.0166, -0.0078],\n",
      "        [-0.0172, -0.0232, -0.0248,  ...,  0.0024, -0.0015, -0.0036],\n",
      "        ...,\n",
      "        [-0.0037, -0.0088, -0.0076,  ...,  0.0030,  0.0052,  0.0016],\n",
      "        [-0.0172, -0.0231, -0.0253,  ..., -0.0082, -0.0086, -0.0058],\n",
      "        [-0.0029, -0.0078, -0.0043,  ...,  0.0061,  0.0046, -0.0001]])\n"
     ]
    }
   ],
   "source": [
    "print('Before backward pass: \\n', model[0].weight.grad)\n",
    "\n",
    "loss.backward()\n",
    "\n",
    "print('After backward pass: \\n', model[0].weight.grad)"
   ]
  },
  {
   "cell_type": "code",
   "execution_count": 71,
   "id": "d5fcd95e",
   "metadata": {},
   "outputs": [],
   "source": [
    "from torch import optim\n",
    "\n",
    "# Optimizers require the parameters to optimize and a learning rate\n",
    "optimizer = optim.SGD(model.parameters(), lr=0.01, momentum=0.5)"
   ]
  },
  {
   "cell_type": "code",
   "execution_count": 72,
   "id": "3e519f1f",
   "metadata": {},
   "outputs": [
    {
     "name": "stdout",
     "output_type": "stream",
     "text": [
      "Initial weights -  Parameter containing:\n",
      "tensor([[-0.0557, -0.0034,  0.0337,  ...,  0.0342,  0.0220,  0.0016],\n",
      "        [-0.0350, -0.0454,  0.0155,  ...,  0.0519, -0.0082, -0.0449],\n",
      "        [ 0.0582,  0.0393,  0.0371,  ...,  0.0567, -0.0055, -0.0505],\n",
      "        ...,\n",
      "        [-0.0387,  0.0554,  0.0619,  ..., -0.0367,  0.0126, -0.0272],\n",
      "        [ 0.0028,  0.0424, -0.0239,  ...,  0.0309,  0.0082, -0.0091],\n",
      "        [ 0.0501, -0.0447,  0.0218,  ...,  0.0346, -0.0323,  0.0582]],\n",
      "       requires_grad=True)\n",
      "Gradient - tensor([[ 3.2995e-03,  7.1366e-03,  1.1602e-02,  ...,  5.6774e-04,\n",
      "          1.9711e-03,  1.3958e-03],\n",
      "        [ 3.6886e-03,  4.2064e-03, -1.5596e-03,  ..., -1.0877e-02,\n",
      "         -8.7763e-03, -4.9583e-03],\n",
      "        [-1.6330e-03, -9.5856e-04, -1.3005e-03,  ...,  1.2856e-03,\n",
      "          2.7564e-04, -6.3237e-04],\n",
      "        ...,\n",
      "        [-1.5071e-03, -3.8906e-03, -2.8787e-03,  ...,  9.2983e-04,\n",
      "          7.6353e-05, -5.1475e-04],\n",
      "        [-4.2541e-03, -5.8656e-03, -8.5530e-03,  ..., -1.4886e-03,\n",
      "         -4.8269e-04, -1.3508e-03],\n",
      "        [-3.3947e-03, -3.0093e-03,  6.1018e-04,  ...,  6.3960e-03,\n",
      "          2.4666e-03,  1.9102e-03]])\n"
     ]
    }
   ],
   "source": [
    "print('Initial weights - ', model[0].weight)\n",
    "\n",
    "# images, labels = next(iter(trainloader))\n",
    "# images.resize_(64, 784)\n",
    "batch_x, batch_y = next_batch(batch_size, x_train_raw, y_train)\n",
    "batch_x_tensor = torch.from_numpy(batch_x)\n",
    "batch_x_tensor = batch_x_tensor.to(torch.float32)\n",
    "\n",
    "batch_y_tensor = torch.from_numpy(batch_y)\n",
    "batch_y_tensor = batch_y_tensor.type(torch.LongTensor)\n",
    "\n",
    "# Clear the gradients, do this because gradients are accumulated\n",
    "optimizer.zero_grad()\n",
    "\n",
    "# Forward pass, then backward pass, then update weights\n",
    "output = model(batch_x_tensor)\n",
    "loss = criterion(output, batch_y_tensor)\n",
    "loss.backward()\n",
    "print('Gradient -', model[0].weight.grad)\n"
   ]
  },
  {
   "cell_type": "code",
   "execution_count": 73,
   "id": "6e8d9a38",
   "metadata": {},
   "outputs": [
    {
     "name": "stdout",
     "output_type": "stream",
     "text": [
      "Updated weights -  Parameter containing:\n",
      "tensor([[-0.0557, -0.0034,  0.0336,  ...,  0.0342,  0.0220,  0.0016],\n",
      "        [-0.0350, -0.0455,  0.0155,  ...,  0.0520, -0.0081, -0.0448],\n",
      "        [ 0.0582,  0.0393,  0.0371,  ...,  0.0567, -0.0055, -0.0505],\n",
      "        ...,\n",
      "        [-0.0387,  0.0554,  0.0619,  ..., -0.0367,  0.0126, -0.0272],\n",
      "        [ 0.0028,  0.0424, -0.0238,  ...,  0.0309,  0.0082, -0.0091],\n",
      "        [ 0.0501, -0.0447,  0.0218,  ...,  0.0345, -0.0323,  0.0582]],\n",
      "       requires_grad=True)\n"
     ]
    }
   ],
   "source": [
    "# Take an update step and few the new weights\n",
    "optimizer.step()\n",
    "print('Updated weights - ', model[0].weight)"
   ]
  },
  {
   "cell_type": "code",
   "execution_count": 74,
   "id": "bac73fb9",
   "metadata": {},
   "outputs": [
    {
     "name": "stdout",
     "output_type": "stream",
     "text": [
      "Epoch 0 - Training loss: 0.01768112778663635\n",
      "Epoch 1 - Training loss: 0.018000329732894896\n",
      "Epoch 2 - Training loss: 0.018073790073394776\n",
      "Epoch 3 - Training loss: 0.01780887007713318\n",
      "Epoch 4 - Training loss: 0.017244529724121094\n",
      "Epoch 5 - Training loss: 0.016887800693511965\n",
      "Epoch 6 - Training loss: 0.01670425891876221\n",
      "Epoch 7 - Training loss: 0.015999424457550048\n",
      "Epoch 8 - Training loss: 0.016184723377227782\n",
      "Epoch 9 - Training loss: 0.01574324131011963\n",
      "Epoch 10 - Training loss: 0.015621781349182129\n",
      "Epoch 11 - Training loss: 0.014567975997924804\n",
      "Epoch 12 - Training loss: 0.013977168798446656\n",
      "Epoch 13 - Training loss: 0.013864467144012451\n",
      "Epoch 14 - Training loss: 0.012913954257965089\n",
      "\n",
      "Training Time (in minutes) = 0.00030756394068400065\n"
     ]
    }
   ],
   "source": [
    "optimizer = optim.SGD(model.parameters(), lr=0.003, momentum=0.9)\n",
    "time0 = time()\n",
    "epochs = 15\n",
    "for e in range(epochs):\n",
    "    running_loss = 0\n",
    "#     for images, labels in trainloader:\n",
    "#         # Flatten MNIST images into a 784 long vector\n",
    "#         images = images.view(images.shape[0], -1)\n",
    "    \n",
    "    batch_x, batch_y = next_batch(batch_size, x_train_raw, y_train)\n",
    "    batch_x_tensor = torch.from_numpy(batch_x)\n",
    "    batch_x_tensor = batch_x_tensor.to(torch.float32)\n",
    "\n",
    "    batch_y_tensor = torch.from_numpy(batch_y)\n",
    "    batch_y_tensor = batch_y_tensor.type(torch.LongTensor)\n",
    "\n",
    "    # Training pass\n",
    "    optimizer.zero_grad()\n",
    "\n",
    "    output = model(batch_x_tensor)\n",
    "    loss = criterion(output, batch_y_tensor)\n",
    "\n",
    "    #This is where the model learns by backpropagating\n",
    "    loss.backward()\n",
    "\n",
    "    #And optimizes its weights here\n",
    "    optimizer.step()\n",
    "\n",
    "    running_loss += loss.item()\n",
    "#     else:\n",
    "    print(\"Epoch {} - Training loss: {}\".format(e, running_loss/len(batch_x_tensor)))\n",
    "print(\"\\nTraining Time (in minutes) =\",(time()-time0)/60)"
   ]
  },
  {
   "cell_type": "code",
   "execution_count": 75,
   "id": "e43a3c58",
   "metadata": {},
   "outputs": [],
   "source": [
    "def view_classify(img, ps):\n",
    "    ''' Function for viewing an image and it's predicted classes.\n",
    "    '''\n",
    "    ps = ps.data.numpy().squeeze()\n",
    "\n",
    "    fig, (ax1, ax2) = plt.subplots(figsize=(6,9), ncols=2)\n",
    "    ax1.imshow(img.resize_(1, 16, 15).numpy().squeeze())\n",
    "    ax1.axis('off')\n",
    "    ax2.barh(np.arange(10), ps)\n",
    "    ax2.set_aspect(0.1)\n",
    "    ax2.set_yticks(np.arange(10))\n",
    "    ax2.set_yticklabels(np.arange(10))\n",
    "    ax2.set_title('Class Probability')\n",
    "    ax2.set_xlim(0, 1.1)\n",
    "    plt.tight_layout()"
   ]
  },
  {
   "cell_type": "code",
   "execution_count": 100,
   "id": "d94cbb56",
   "metadata": {},
   "outputs": [
    {
     "name": "stdout",
     "output_type": "stream",
     "text": [
      "Actual label = 1.0\n",
      "Predicted Digit = 1\n"
     ]
    },
    {
     "data": {
      "image/png": "[encoded data removed]",
      "text/plain": [
       "<Figure size 600x900 with 2 Axes>"
      ]
     },
     "metadata": {
      "image/png": {
       "height": 327,
       "width": 589
      }
     },
     "output_type": "display_data"
    }
   ],
   "source": [
    "batch_x, batch_y = next_batch(batch_size, x_test_raw, y_test)\n",
    "batch_x_tensor = torch.from_numpy(batch_x)\n",
    "batch_x_tensor = batch_x_tensor.to(torch.float32)\n",
    "\n",
    "batch_y_tensor = torch.from_numpy(batch_y)\n",
    "batch_y_tensor = batch_y_tensor.type(torch.LongTensor)\n",
    "\n",
    "# img = images[0].view(1, 784)\n",
    "img = batch_x_tensor[0].view(1,240)\n",
    "label = batch_y[0]\n",
    "# Turn off gradients to speed up this part\n",
    "with torch.no_grad():\n",
    "    logps = model(img)\n",
    "\n",
    "# Output of the network are log-probabilities, need to take exponential for probabilities\n",
    "ps = torch.exp(logps)\n",
    "probab = list(ps.numpy()[0])\n",
    "print(\"Actual label =\", label)\n",
    "print(\"Predicted Digit =\", probab.index(max(probab)))\n",
    "view_classify(img.view(1, 16, 15), ps)"
   ]
  },
  {
   "cell_type": "code",
   "execution_count": 104,
   "id": "1891c911",
   "metadata": {},
   "outputs": [],
   "source": [
    "batch_x, batch_y = next_batch(batch_size, x_test_raw, y_test)\n",
    "batch_x_tensor = torch.from_numpy(batch_x)\n",
    "batch_x_tensor = batch_x_tensor.to(torch.float32)\n",
    "\n",
    "batch_y_tensor = torch.from_numpy(batch_y)\n",
    "batch_y_tensor = batch_y_tensor.type(torch.LongTensor)\n",
    "\n",
    "# Turn off gradients to speed up this part\n",
    "with torch.no_grad():\n",
    "    logps = model(batch_x_tensor)\n",
    "\n",
    "# Output of the network are log-probabilities, need to take exponential for probabilities\n",
    "ps = torch.exp(logps)\n",
    "probab = list(ps.numpy())"
   ]
  },
  {
   "cell_type": "code",
   "execution_count": 105,
   "id": "4d068732",
   "metadata": {},
   "outputs": [],
   "source": [
    "probability_arr = []\n",
    "for i in range(len(probab)):\n",
    "    temp_arr = list(probab[i])\n",
    "    probability_arr.append(temp_arr.index(max(temp_arr)))\n",
    "# probab.index(max(probab))"
   ]
  },
  {
   "cell_type": "code",
   "execution_count": 106,
   "id": "6b22a4bb",
   "metadata": {},
   "outputs": [
    {
     "data": {
      "text/plain": [
       "[1,\n",
       " 1,\n",
       " 6,\n",
       " 7,\n",
       " 3,\n",
       " 5,\n",
       " 9,\n",
       " 5,\n",
       " 9,\n",
       " 5,\n",
       " 7,\n",
       " 0,\n",
       " 6,\n",
       " 1,\n",
       " 1,\n",
       " 2,\n",
       " 6,\n",
       " 1,\n",
       " 0,\n",
       " 4,\n",
       " 7,\n",
       " 3,\n",
       " 8,\n",
       " 2,\n",
       " 5,\n",
       " 4,\n",
       " 0,\n",
       " 6,\n",
       " 2,\n",
       " 0,\n",
       " 3,\n",
       " 3,\n",
       " 1,\n",
       " 4,\n",
       " 4,\n",
       " 4,\n",
       " 3,\n",
       " 1,\n",
       " 5,\n",
       " 2,\n",
       " 0,\n",
       " 6,\n",
       " 3,\n",
       " 2,\n",
       " 2,\n",
       " 6,\n",
       " 0,\n",
       " 0,\n",
       " 3,\n",
       " 7,\n",
       " 1,\n",
       " 2,\n",
       " 7,\n",
       " 4,\n",
       " 0,\n",
       " 5,\n",
       " 4,\n",
       " 9,\n",
       " 0,\n",
       " 3,\n",
       " 4,\n",
       " 6,\n",
       " 3,\n",
       " 7,\n",
       " 0,\n",
       " 5,\n",
       " 5,\n",
       " 1,\n",
       " 2,\n",
       " 1,\n",
       " 3,\n",
       " 4,\n",
       " 9,\n",
       " 7,\n",
       " 3,\n",
       " 3,\n",
       " 3,\n",
       " 4,\n",
       " 7,\n",
       " 0,\n",
       " 0,\n",
       " 2,\n",
       " 9,\n",
       " 9,\n",
       " 3,\n",
       " 6,\n",
       " 1,\n",
       " 3,\n",
       " 7,\n",
       " 6,\n",
       " 6,\n",
       " 7,\n",
       " 8,\n",
       " 8,\n",
       " 3,\n",
       " 0,\n",
       " 9,\n",
       " 9,\n",
       " 2,\n",
       " 2]"
      ]
     },
     "execution_count": 106,
     "metadata": {},
     "output_type": "execute_result"
    }
   ],
   "source": [
    "probability_arr"
   ]
  },
  {
   "cell_type": "code",
   "execution_count": 109,
   "id": "189ae68c",
   "metadata": {},
   "outputs": [
    {
     "data": {
      "text/plain": [
       "100"
      ]
     },
     "execution_count": 109,
     "metadata": {},
     "output_type": "execute_result"
    }
   ],
   "source": [
    "len(probability_arr)"
   ]
  },
  {
   "cell_type": "code",
   "execution_count": 107,
   "id": "5d490e10",
   "metadata": {},
   "outputs": [
    {
     "data": {
      "text/plain": [
       "tensor([1, 1, 8, 7, 8, 5, 9, 5, 9, 6, 7, 6, 6, 9, 2, 9, 6, 1, 0, 4, 7, 3, 8, 2,\n",
       "        5, 4, 0, 6, 2, 0, 8, 3, 1, 4, 6, 4, 3, 1, 5, 2, 0, 6, 7, 2, 2, 6, 0, 0,\n",
       "        3, 7, 6, 2, 7, 4, 0, 5, 4, 9, 0, 3, 4, 0, 3, 7, 0, 5, 5, 1, 2, 1, 3, 4,\n",
       "        9, 7, 5, 3, 8, 4, 7, 0, 8, 2, 9, 9, 3, 6, 9, 3, 7, 6, 4, 7, 8, 8, 3, 0,\n",
       "        9, 9, 2, 9])"
      ]
     },
     "execution_count": 107,
     "metadata": {},
     "output_type": "execute_result"
    }
   ],
   "source": [
    "batch_y_tensor"
   ]
  },
  {
   "cell_type": "code",
   "execution_count": 108,
   "id": "73a56e84",
   "metadata": {},
   "outputs": [
    {
     "data": {
      "text/plain": [
       "100"
      ]
     },
     "execution_count": 108,
     "metadata": {},
     "output_type": "execute_result"
    }
   ],
   "source": [
    "len(batch_y_tensor)"
   ]
  },
  {
   "cell_type": "code",
   "execution_count": 112,
   "id": "551bcfde",
   "metadata": {},
   "outputs": [
    {
     "name": "stdout",
     "output_type": "stream",
     "text": [
      "Accuracy =  82.0 %\n"
     ]
    }
   ],
   "source": [
    "acc = sum(1 for x,y in zip(probability_arr,batch_y_tensor) if x == y) / len(probability_arr)\n",
    "print(\"Accuracy = \", acc*100,\"%\")"
   ]
  },
  {
   "cell_type": "code",
   "execution_count": 115,
   "id": "20966c37",
   "metadata": {},
   "outputs": [
    {
     "data": {
      "image/png": "[encoded data removed]",
      "text/plain": [
       "<Figure size 640x480 with 2 Axes>"
      ]
     },
     "metadata": {
      "image/png": {
       "height": 432,
       "width": 498
      }
     },
     "output_type": "display_data"
    }
   ],
   "source": [
    "from sklearn.metrics import confusion_matrix, ConfusionMatrixDisplay\n",
    "\n",
    "y_true = batch_y_tensor\n",
    "y_pred = probability_arr\n",
    "\n",
    "cm = confusion_matrix(y_true, y_pred)\n",
    "disp = ConfusionMatrixDisplay(confusion_matrix=cm)\n",
    "disp.plot()\n",
    "plt.show()"
   ]
  },
  {
   "cell_type": "code",
   "execution_count": null,
   "id": "4bd73ad1",
   "metadata": {},
   "outputs": [],
   "source": []
  }
 ],
 "metadata": {
  "kernelspec": {
   "display_name": "Python 3 (ipykernel)",
   "language": "python",
   "name": "python3"
  },
  "language_info": {
   "codemirror_mode": {
    "name": "ipython",
    "version": 3
   },
   "file_extension": ".py",
   "mimetype": "text/x-python",
   "name": "python",
   "nbconvert_exporter": "python",
   "pygments_lexer": "ipython3",
   "version": "3.9.6"
  }
 },
 "nbformat": 4,
 "nbformat_minor": 5
}
