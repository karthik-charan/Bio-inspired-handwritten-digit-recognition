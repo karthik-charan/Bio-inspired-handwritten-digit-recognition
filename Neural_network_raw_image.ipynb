{
 "cells": [
  {
   "cell_type": "code",
   "execution_count": 1,
   "id": "ea06d5aa",
   "metadata": {},
   "outputs": [
    {
     "data": {
      "image/png": "[encoded data removed]",
      "text/plain": [
       "<Figure size 432x288 with 1 Axes>"
      ]
     },
     "metadata": {
      "image/png": {
       "height": 248,
       "width": 238
      },
      "needs_background": "light"
     },
     "output_type": "display_data"
    }
   ],
   "source": [
    "# Import necessary packages\n",
    "%matplotlib inline\n",
    "%config InlineBackend.figure_format = 'retina'\n",
    "\n",
    "import numpy as np\n",
    "import torch\n",
    "import torchvision\n",
    "from torch import nn\n",
    "from sklearn.preprocessing import OneHotEncoder\n",
    "import matplotlib.pyplot as plt\n",
    "from dataloader import FFT_transform_PM\n",
    "from time import time\n",
    "import os"
   ]
  },
  {
   "cell_type": "code",
   "execution_count": 2,
   "id": "a95844af",
   "metadata": {},
   "outputs": [],
   "source": [
    "def next_batch(num, data, labels):\n",
    "    '''\n",
    "    Return a total of `num` random samples and labels. \n",
    "    '''\n",
    "    idx = np.arange(0 , len(data))\n",
    "    np.random.shuffle(idx)\n",
    "    idx = idx[:num]\n",
    "\n",
    "    data_shuffle = [data[ i] for i in idx]\n",
    "    labels_shuffle = [labels[ i] for i in idx]\n",
    "\n",
    "    return np.asarray(data_shuffle), np.asarray(labels_shuffle)"
   ]
  },
  {
   "cell_type": "code",
   "execution_count": 3,
   "id": "d072ac4d",
   "metadata": {},
   "outputs": [],
   "source": [
    "#I'm using the dataloading code that you uploaded\n",
    "entries = os.listdir('Data/')\n",
    "\n",
    "#Importing training data\n",
    "train_data=[k for k in entries if 'train' in k]\n",
    "\n",
    "X_title_train=[]\n",
    "flat_data_train=[]\n",
    "flat_data_train_raw=[]\n",
    "X_data_train = []\n",
    "X_data_train_phase=[]\n",
    "X_data_train_raw = []\n",
    "flat_data_train_phase=[]\n",
    "for entry in train_data:\n",
    "    name=entry\n",
    "    #print(entry)\n",
    "    with open('Data/'+name) as f:\n",
    "        #print(f)\n",
    "        for line in f:\n",
    "            curr = line.strip()\n",
    "            mat = np.fromstring(curr, dtype=int, sep='  ')\n",
    "            mat_r = np.reshape(mat, (-1, 15))\n",
    "            X_data_train_raw.append(mat_r)\n",
    "            \n",
    "            #here we apply the FFT transform\n",
    "            mag_val,phase_val = FFT_transform_PM(mat_r)\n",
    "            #break\n",
    "            X_data_train.append(mag_val)\n",
    "            X_data_train_phase.append(phase_val)\n",
    "            X_title_train.append(name)\n",
    "            flat_data_train.append(mag_val.flatten())\n",
    "            flat_data_train_phase.append(phase_val.flatten())\n",
    "            flat_data_train_raw.append(mat_r.flatten())\n",
    "    #X_data_train.append(mag_val)\n",
    "    #X_data.append (image)\n",
    "\n",
    "#Importing test data\n",
    "test_data=[k for k in entries if 'test' in k]\n",
    "#print(test_data)\n",
    "X_title_test=[]\n",
    "X_data_test = []\n",
    "flat_data_test=[]\n",
    "X_data_test_phase=[]\n",
    "X_data_test_raw=[]\n",
    "flat_data_test_phase=[]\n",
    "flat_data_test_raw=[]\n",
    "for entry in test_data:\n",
    "    name=entry\n",
    "    #print(entry)\n",
    "    with open('Data/'+name) as f:\n",
    "        #print(f)\n",
    "        for line in f:\n",
    "            curr = line.strip()\n",
    "            mat = np.fromstring(curr, dtype=int, sep='  ')\n",
    "            mat_r = np.reshape(mat, (-1, 15))\n",
    "            X_data_test_raw.append(mat_r)\n",
    "\n",
    "            mag_val,phase_val = FFT_transform_PM(mat_r)\n",
    "            #break\n",
    "            X_data_test.append(mag_val)\n",
    "            X_data_test_phase.append(phase_val)\n",
    "            X_title_test.append(name)\n",
    "            flat_data_test.append(mag_val.flatten())\n",
    "            flat_data_test_phase.append(phase_val.flatten())\n",
    "            flat_data_test_raw.append(mat_r.flatten())\n",
    "    #X_data.append (image)\n",
    "\n",
    "#calculate the labels of the data\n",
    "res_train=[]\n",
    "res_train = [sub.replace('.txt', '') for sub in X_title_train]\n",
    "res_train = [sub.replace('train_', '') for sub in res_train]\n",
    "res_train = [eval(i) for i in res_train]\n",
    "X_train_lable=res_train\n",
    "res_test=[]\n",
    "res_test = [sub.replace('.txt', '') for sub in X_title_test]\n",
    "res_test = [sub.replace('test_', '') for sub in res_test]\n",
    "res_test = [eval(i) for i in res_test]\n",
    "X_test_lable=res_test\n",
    "\n",
    "\n",
    "x_train=flat_data_train\n",
    "x_train_raw=flat_data_train_raw\n",
    "x_train_phase= flat_data_train_phase # added the phase values \n",
    "#here I just convert nan to numbers but we might want to look deeper into where the nan values are coming from in the first place\n",
    "x_train=np.nan_to_num(x_train)\n",
    "x_train_raw=np.nan_to_num(x_train_raw)\n",
    "x_train_phase = np.nan_to_num(x_train_phase)\n",
    "#print(len(flat_data_train))\n",
    "y_train_temp = X_train_lable\n",
    "y_train = [float(temp_y) for temp_y in y_train_temp] #Converting to Float; for softmax at output (not mandatory)\n",
    "\n",
    "x_test=flat_data_test\n",
    "x_test_raw=flat_data_test_raw\n",
    "x_test_phase = flat_data_test_phase\n",
    "x_test=np.nan_to_num(x_test)\n",
    "x_test_phase= np.nan_to_num(x_test_phase)\n",
    "y_test_temp = X_test_lable\n",
    "y_test = [float(temp_yy) for temp_yy in y_test_temp] #Converting to Float; for softmax at output (not mandatory)\n",
    "\n",
    "#One hot encoding the class labels\n",
    "enc = OneHotEncoder(handle_unknown='ignore')\n",
    "enc_y_train = np.array(y_train)\n",
    "enc_y_train = enc_y_train.reshape(-1, 1)\n",
    "\n",
    "enc_y_test = np.array(y_test)\n",
    "enc_y_test = enc_y_test.reshape(-1, 1)\n",
    "\n",
    "enc.fit(enc_y_train)\n",
    "# print(\"Categories:\", enc.categories_)\n",
    "n_y_train = enc.transform(enc_y_train).toarray()\n",
    "n_y_test = enc.transform(enc_y_test).toarray()"
   ]
  },
  {
   "cell_type": "code",
   "execution_count": 4,
   "id": "026c7378",
   "metadata": {},
   "outputs": [
    {
     "name": "stdout",
     "output_type": "stream",
     "text": [
      "Sequential(\n",
      "  (0): Linear(in_features=240, out_features=128, bias=True)\n",
      "  (1): ReLU()\n",
      "  (2): Linear(in_features=128, out_features=64, bias=True)\n",
      "  (3): ReLU()\n",
      "  (4): Linear(in_features=64, out_features=10, bias=True)\n",
      "  (5): LogSoftmax(dim=1)\n",
      ")\n"
     ]
    }
   ],
   "source": [
    "# Layer details for the neural network\n",
    "input_size = 240\n",
    "hidden_sizes = [128, 64]\n",
    "output_size = 10\n",
    "\n",
    "# Build a feed-forward network\n",
    "model = nn.Sequential(nn.Linear(input_size, hidden_sizes[0]),\n",
    "                      nn.ReLU(),\n",
    "                      nn.Linear(hidden_sizes[0], hidden_sizes[1]),\n",
    "                      nn.ReLU(),\n",
    "                      nn.Linear(hidden_sizes[1], output_size),\n",
    "                      nn.LogSoftmax(dim=1))\n",
    "print(model)     "
   ]
  },
  {
   "cell_type": "code",
   "execution_count": 5,
   "id": "e8f19f14",
   "metadata": {},
   "outputs": [],
   "source": [
    "criterion = nn.NLLLoss()\n",
    "# images, labels = next(iter(trainloader))\n",
    "# images = images.view(images.shape[0], -1)\n",
    "batch_size = 100\n",
    "batch_x, batch_y = next_batch(batch_size, x_train_raw, y_train)\n",
    "batch_x_tensor = torch.from_numpy(batch_x)\n",
    "batch_x_tensor = batch_x_tensor.to(torch.float32)\n",
    "\n",
    "batch_y_tensor = torch.from_numpy(batch_y)\n",
    "batch_y_tensor = batch_y_tensor.type(torch.LongTensor)\n",
    "\n",
    "logps = model(batch_x_tensor)\n",
    "loss = criterion(logps, batch_y_tensor)"
   ]
  },
  {
   "cell_type": "code",
   "execution_count": 6,
   "id": "d421a0fd",
   "metadata": {},
   "outputs": [
    {
     "name": "stdout",
     "output_type": "stream",
     "text": [
      "(100, 240)\n"
     ]
    }
   ],
   "source": [
    "print(batch_x.shape)"
   ]
  },
  {
   "cell_type": "code",
   "execution_count": 7,
   "id": "af64916b",
   "metadata": {},
   "outputs": [
    {
     "name": "stdout",
     "output_type": "stream",
     "text": [
      "tensor([5, 7, 1, 8, 6, 4, 9, 0, 8, 3, 0, 5, 0, 2, 4, 0, 3, 5, 4, 0, 2, 5, 2, 8,\n",
      "        9, 4, 6, 4, 2, 4, 0, 1, 3, 6, 8, 1, 3, 7, 6, 4, 6, 0, 3, 7, 9, 4, 9, 2,\n",
      "        3, 8, 8, 7, 8, 0, 8, 7, 3, 6, 7, 5, 4, 2, 4, 0, 8, 0, 7, 4, 5, 2, 8, 5,\n",
      "        9, 0, 8, 4, 8, 4, 4, 2, 4, 3, 5, 3, 7, 2, 0, 6, 4, 2, 2, 4, 3, 2, 4, 8,\n",
      "        6, 9, 3, 5])\n"
     ]
    }
   ],
   "source": [
    "print(batch_y_tensor)"
   ]
  },
  {
   "cell_type": "code",
   "execution_count": 8,
   "id": "9baf6c8e",
   "metadata": {},
   "outputs": [
    {
     "name": "stdout",
     "output_type": "stream",
     "text": [
      "Before backward pass: \n",
      " None\n",
      "After backward pass: \n",
      " tensor([[-1.5410e-04, -2.2884e-04,  1.3391e-04,  ...,  1.2277e-03,\n",
      "          1.5089e-03,  1.8099e-04],\n",
      "        [ 0.0000e+00, -9.6865e-04, -1.0712e-03,  ...,  9.4104e-04,\n",
      "          9.4104e-04,  2.3526e-04],\n",
      "        [ 0.0000e+00,  3.1953e-04, -2.3839e-04,  ...,  1.2621e-03,\n",
      "          3.1554e-04,  0.0000e+00],\n",
      "        ...,\n",
      "        [ 2.5902e-04,  1.5188e-03,  2.7369e-03,  ...,  2.5872e-03,\n",
      "          3.0002e-03,  1.9346e-03],\n",
      "        [ 1.1870e-03,  9.8286e-04, -4.1834e-03,  ..., -7.4683e-03,\n",
      "         -4.0647e-03, -1.0400e-03],\n",
      "        [-1.1362e-04, -6.6856e-04, -3.5983e-03,  ...,  1.3991e-03,\n",
      "          5.1736e-05, -9.6855e-04]])\n"
     ]
    }
   ],
   "source": [
    "print('Before backward pass: \\n', model[0].weight.grad)\n",
    "\n",
    "loss.backward()\n",
    "\n",
    "print('After backward pass: \\n', model[0].weight.grad)"
   ]
  },
  {
   "cell_type": "code",
   "execution_count": 9,
   "id": "d5fcd95e",
   "metadata": {},
   "outputs": [],
   "source": [
    "from torch import optim\n",
    "\n",
    "# Optimizers require the parameters to optimize and a learning rate\n",
    "optimizer = optim.SGD(model.parameters(), lr=0.01, momentum=0.5)"
   ]
  },
  {
   "cell_type": "code",
   "execution_count": 10,
   "id": "3e519f1f",
   "metadata": {},
   "outputs": [
    {
     "name": "stdout",
     "output_type": "stream",
     "text": [
      "Initial weights -  Parameter containing:\n",
      "tensor([[ 0.0024,  0.0215, -0.0225,  ...,  0.0022, -0.0247, -0.0310],\n",
      "        [-0.0605, -0.0409,  0.0518,  ..., -0.0491,  0.0158,  0.0037],\n",
      "        [-0.0382,  0.0112,  0.0174,  ..., -0.0590, -0.0155,  0.0536],\n",
      "        ...,\n",
      "        [-0.0267,  0.0396, -0.0421,  ...,  0.0027, -0.0212,  0.0496],\n",
      "        [ 0.0516,  0.0413,  0.0456,  ...,  0.0228,  0.0541, -0.0455],\n",
      "        [ 0.0257,  0.0069,  0.0457,  ...,  0.0125, -0.0596,  0.0515]],\n",
      "       requires_grad=True)\n",
      "Gradient - tensor([[-0.0014, -0.0047, -0.0055,  ..., -0.0034, -0.0021, -0.0014],\n",
      "        [ 0.0002,  0.0009,  0.0010,  ...,  0.0012,  0.0012,  0.0008],\n",
      "        [ 0.0008,  0.0013,  0.0020,  ..., -0.0020, -0.0009, -0.0008],\n",
      "        ...,\n",
      "        [-0.0002,  0.0010,  0.0022,  ...,  0.0058,  0.0056,  0.0035],\n",
      "        [ 0.0040,  0.0051,  0.0026,  ..., -0.0037, -0.0031, -0.0013],\n",
      "        [ 0.0007,  0.0010,  0.0011,  ...,  0.0016,  0.0007,  0.0002]])\n"
     ]
    }
   ],
   "source": [
    "print('Initial weights - ', model[0].weight)\n",
    "\n",
    "# images, labels = next(iter(trainloader))\n",
    "# images.resize_(64, 784)\n",
    "batch_x, batch_y = next_batch(batch_size, x_train_raw, y_train)\n",
    "batch_x_tensor = torch.from_numpy(batch_x)\n",
    "batch_x_tensor = batch_x_tensor.to(torch.float32)\n",
    "\n",
    "batch_y_tensor = torch.from_numpy(batch_y)\n",
    "batch_y_tensor = batch_y_tensor.type(torch.LongTensor)\n",
    "\n",
    "# Clear the gradients, do this because gradients are accumulated\n",
    "optimizer.zero_grad()\n",
    "\n",
    "# Forward pass, then backward pass, then update weights\n",
    "output = model(batch_x_tensor)\n",
    "loss = criterion(output, batch_y_tensor)\n",
    "loss.backward()\n",
    "print('Gradient -', model[0].weight.grad)\n"
   ]
  },
  {
   "cell_type": "code",
   "execution_count": 11,
   "id": "6e8d9a38",
   "metadata": {},
   "outputs": [
    {
     "name": "stdout",
     "output_type": "stream",
     "text": [
      "Updated weights -  Parameter containing:\n",
      "tensor([[ 0.0024,  0.0216, -0.0224,  ...,  0.0022, -0.0247, -0.0310],\n",
      "        [-0.0605, -0.0409,  0.0518,  ..., -0.0491,  0.0158,  0.0037],\n",
      "        [-0.0382,  0.0112,  0.0174,  ..., -0.0590, -0.0155,  0.0536],\n",
      "        ...,\n",
      "        [-0.0267,  0.0396, -0.0421,  ...,  0.0027, -0.0212,  0.0496],\n",
      "        [ 0.0516,  0.0413,  0.0456,  ...,  0.0228,  0.0541, -0.0455],\n",
      "        [ 0.0257,  0.0069,  0.0457,  ...,  0.0124, -0.0596,  0.0514]],\n",
      "       requires_grad=True)\n"
     ]
    }
   ],
   "source": [
    "# Take an update step and few the new weights\n",
    "optimizer.step()\n",
    "print('Updated weights - ', model[0].weight)"
   ]
  },
  {
   "cell_type": "code",
   "execution_count": 12,
   "id": "bac73fb9",
   "metadata": {},
   "outputs": [
    {
     "name": "stdout",
     "output_type": "stream",
     "text": [
      "Epoch 0 - Training loss: 0.023166353702545165\n",
      "Epoch 1 - Training loss: 0.02267876863479614\n",
      "Epoch 2 - Training loss: 0.02319568395614624\n",
      "Epoch 3 - Training loss: 0.023366003036499022\n",
      "Epoch 4 - Training loss: 0.022455976009368897\n",
      "Epoch 5 - Training loss: 0.022401344776153565\n",
      "Epoch 6 - Training loss: 0.021361641883850098\n",
      "Epoch 7 - Training loss: 0.021439170837402342\n",
      "Epoch 8 - Training loss: 0.021274707317352294\n",
      "Epoch 9 - Training loss: 0.020673274993896484\n",
      "Epoch 10 - Training loss: 0.020643720626831053\n",
      "Epoch 11 - Training loss: 0.020264246463775636\n",
      "Epoch 12 - Training loss: 0.02015096664428711\n",
      "Epoch 13 - Training loss: 0.019182127714157105\n",
      "Epoch 14 - Training loss: 0.018964816331863404\n",
      "Epoch 15 - Training loss: 0.01836929440498352\n",
      "Epoch 16 - Training loss: 0.018055758476257323\n",
      "Epoch 17 - Training loss: 0.017745774984359742\n",
      "Epoch 18 - Training loss: 0.01754100441932678\n",
      "Epoch 19 - Training loss: 0.016879104375839234\n",
      "Epoch 20 - Training loss: 0.0164640748500824\n",
      "Epoch 21 - Training loss: 0.016108001470565795\n",
      "Epoch 22 - Training loss: 0.015139667987823487\n",
      "Epoch 23 - Training loss: 0.01453993558883667\n",
      "Epoch 24 - Training loss: 0.014228116273880004\n",
      "Epoch 25 - Training loss: 0.01347434639930725\n",
      "Epoch 26 - Training loss: 0.013268418312072754\n",
      "Epoch 27 - Training loss: 0.013047102689743042\n",
      "Epoch 28 - Training loss: 0.012840498685836792\n",
      "Epoch 29 - Training loss: 0.010952070951461793\n",
      "Epoch 30 - Training loss: 0.011262706518173217\n",
      "Epoch 31 - Training loss: 0.010762743949890137\n",
      "Epoch 32 - Training loss: 0.010045779943466187\n",
      "Epoch 33 - Training loss: 0.009125933647155762\n",
      "Epoch 34 - Training loss: 0.009058711528778076\n",
      "Epoch 35 - Training loss: 0.008587421178817748\n",
      "Epoch 36 - Training loss: 0.009041522145271302\n",
      "Epoch 37 - Training loss: 0.008270914554595948\n",
      "Epoch 38 - Training loss: 0.00737582802772522\n",
      "Epoch 39 - Training loss: 0.0076021522283554075\n",
      "Epoch 40 - Training loss: 0.00690376877784729\n",
      "Epoch 41 - Training loss: 0.00674712061882019\n",
      "Epoch 42 - Training loss: 0.006381980776786804\n",
      "Epoch 43 - Training loss: 0.005312236547470092\n",
      "Epoch 44 - Training loss: 0.006483018398284912\n",
      "Epoch 45 - Training loss: 0.006896397471427918\n",
      "Epoch 46 - Training loss: 0.005213366746902466\n",
      "Epoch 47 - Training loss: 0.005051456689834595\n",
      "Epoch 48 - Training loss: 0.004593974649906158\n",
      "Epoch 49 - Training loss: 0.005027620792388916\n",
      "Epoch 50 - Training loss: 0.004721314907073975\n",
      "Epoch 51 - Training loss: 0.004550108015537262\n",
      "Epoch 52 - Training loss: 0.003609347939491272\n",
      "Epoch 53 - Training loss: 0.003577699363231659\n",
      "Epoch 54 - Training loss: 0.00322378933429718\n",
      "Epoch 55 - Training loss: 0.003470938503742218\n",
      "Epoch 56 - Training loss: 0.0035858970880508424\n",
      "Epoch 57 - Training loss: 0.0036844033002853393\n",
      "Epoch 58 - Training loss: 0.0033618441224098207\n",
      "Epoch 59 - Training loss: 0.002487965524196625\n",
      "\n",
      "Training Time (in minutes) = 0.002311094601949056\n"
     ]
    }
   ],
   "source": [
    "optimizer = optim.SGD(model.parameters(), lr=0.003, momentum=0.9)\n",
    "time0 = time()\n",
    "epochs = 60\n",
    "for e in range(epochs):\n",
    "    running_loss = 0\n",
    "#     for images, labels in trainloader:\n",
    "#         # Flatten MNIST images into a 784 long vector\n",
    "#         images = images.view(images.shape[0], -1)\n",
    "    \n",
    "    batch_x, batch_y = next_batch(batch_size, x_train_raw, y_train)\n",
    "    batch_x_tensor = torch.from_numpy(batch_x)\n",
    "    batch_x_tensor = batch_x_tensor.to(torch.float32)\n",
    "\n",
    "    batch_y_tensor = torch.from_numpy(batch_y)\n",
    "    batch_y_tensor = batch_y_tensor.type(torch.LongTensor)\n",
    "\n",
    "    # Training pass\n",
    "    optimizer.zero_grad()\n",
    "\n",
    "    output = model(batch_x_tensor)\n",
    "    loss = criterion(output, batch_y_tensor)\n",
    "\n",
    "    #This is where the model learns by backpropagating\n",
    "    loss.backward()\n",
    "\n",
    "    #And optimizes its weights here\n",
    "    optimizer.step()\n",
    "\n",
    "    running_loss += loss.item()\n",
    "#     else:\n",
    "    print(\"Epoch {} - Training loss: {}\".format(e, running_loss/len(batch_x_tensor)))\n",
    "print(\"\\nTraining Time (in minutes) =\",(time()-time0)/60)"
   ]
  },
  {
   "cell_type": "code",
   "execution_count": 13,
   "id": "e43a3c58",
   "metadata": {},
   "outputs": [],
   "source": [
    "def view_classify(img, ps):\n",
    "    ''' Function for viewing an image and it's predicted classes.\n",
    "    '''\n",
    "    ps = ps.data.numpy().squeeze()\n",
    "\n",
    "    fig, (ax1, ax2) = plt.subplots(figsize=(6,9), ncols=2)\n",
    "    ax1.imshow(img.resize_(1, 16, 15).numpy().squeeze())\n",
    "    ax1.axis('off')\n",
    "    ax2.barh(np.arange(10), ps)\n",
    "    ax2.set_aspect(0.1)\n",
    "    ax2.set_yticks(np.arange(10))\n",
    "    ax2.set_yticklabels(np.arange(10))\n",
    "    ax2.set_title('Class Probability')\n",
    "    ax2.set_xlim(0, 1.1)\n",
    "    plt.tight_layout()"
   ]
  },
  {
   "cell_type": "code",
   "execution_count": 14,
   "id": "d94cbb56",
   "metadata": {},
   "outputs": [
    {
     "name": "stdout",
     "output_type": "stream",
     "text": [
      "Actual label = 7.0\n",
      "Predicted Digit = 7\n"
     ]
    },
    {
     "data": {
      "image/png": "[encoded data removed]",
      "text/plain": [
       "<Figure size 432x648 with 2 Axes>"
      ]
     },
     "metadata": {
      "image/png": {
       "height": 235,
       "width": 424
      },
      "needs_background": "light"
     },
     "output_type": "display_data"
    }
   ],
   "source": [
    "batch_x, batch_y = next_batch(batch_size, x_test_raw, y_test)\n",
    "batch_x_tensor = torch.from_numpy(batch_x)\n",
    "batch_x_tensor = batch_x_tensor.to(torch.float32)\n",
    "\n",
    "batch_y_tensor = torch.from_numpy(batch_y)\n",
    "batch_y_tensor = batch_y_tensor.type(torch.LongTensor)\n",
    "\n",
    "# img = images[0].view(1, 784)\n",
    "img = batch_x_tensor[0].view(1,240)\n",
    "label = batch_y[0]\n",
    "# Turn off gradients to speed up this part\n",
    "with torch.no_grad():\n",
    "    logps = model(img)\n",
    "\n",
    "# Output of the network are log-probabilities, need to take exponential for probabilities\n",
    "ps = torch.exp(logps)\n",
    "probab = list(ps.numpy()[0])\n",
    "print(\"Actual label =\", label)\n",
    "print(\"Predicted Digit =\", probab.index(max(probab)))\n",
    "view_classify(img.view(1, 16, 15), ps)"
   ]
  },
  {
   "cell_type": "code",
   "execution_count": 15,
   "id": "1891c911",
   "metadata": {},
   "outputs": [],
   "source": [
    "batch_x, batch_y = next_batch(batch_size, x_test_raw, y_test)\n",
    "batch_x_tensor = torch.from_numpy(batch_x)\n",
    "batch_x_tensor = batch_x_tensor.to(torch.float32)\n",
    "\n",
    "batch_y_tensor = torch.from_numpy(batch_y)\n",
    "batch_y_tensor = batch_y_tensor.type(torch.LongTensor)\n",
    "\n",
    "# Turn off gradients to speed up this part\n",
    "with torch.no_grad():\n",
    "    logps = model(batch_x_tensor)\n",
    "\n",
    "# Output of the network are log-probabilities, need to take exponential for probabilities\n",
    "ps = torch.exp(logps)\n",
    "probab = list(ps.numpy())"
   ]
  },
  {
   "cell_type": "code",
   "execution_count": 16,
   "id": "4d068732",
   "metadata": {},
   "outputs": [],
   "source": [
    "probability_arr = []\n",
    "for i in range(len(probab)):\n",
    "    temp_arr = list(probab[i])\n",
    "    probability_arr.append(temp_arr.index(max(temp_arr)))\n",
    "# probab.index(max(probab))"
   ]
  },
  {
   "cell_type": "code",
   "execution_count": 17,
   "id": "6b22a4bb",
   "metadata": {},
   "outputs": [
    {
     "data": {
      "text/plain": [
       "[4,\n",
       " 4,\n",
       " 3,\n",
       " 8,\n",
       " 8,\n",
       " 4,\n",
       " 5,\n",
       " 1,\n",
       " 2,\n",
       " 5,\n",
       " 3,\n",
       " 7,\n",
       " 5,\n",
       " 2,\n",
       " 4,\n",
       " 6,\n",
       " 7,\n",
       " 3,\n",
       " 9,\n",
       " 2,\n",
       " 6,\n",
       " 2,\n",
       " 5,\n",
       " 6,\n",
       " 6,\n",
       " 4,\n",
       " 9,\n",
       " 7,\n",
       " 0,\n",
       " 3,\n",
       " 4,\n",
       " 6,\n",
       " 4,\n",
       " 2,\n",
       " 8,\n",
       " 1,\n",
       " 7,\n",
       " 5,\n",
       " 6,\n",
       " 0,\n",
       " 7,\n",
       " 4,\n",
       " 9,\n",
       " 6,\n",
       " 0,\n",
       " 2,\n",
       " 7,\n",
       " 0,\n",
       " 9,\n",
       " 5,\n",
       " 2,\n",
       " 7,\n",
       " 3,\n",
       " 8,\n",
       " 3,\n",
       " 3,\n",
       " 7,\n",
       " 0,\n",
       " 2,\n",
       " 6,\n",
       " 5,\n",
       " 0,\n",
       " 0,\n",
       " 7,\n",
       " 3,\n",
       " 5,\n",
       " 7,\n",
       " 4,\n",
       " 2,\n",
       " 9,\n",
       " 8,\n",
       " 8,\n",
       " 5,\n",
       " 1,\n",
       " 5,\n",
       " 5,\n",
       " 6,\n",
       " 9,\n",
       " 0,\n",
       " 4,\n",
       " 0,\n",
       " 2,\n",
       " 2,\n",
       " 5,\n",
       " 9,\n",
       " 0,\n",
       " 1,\n",
       " 5,\n",
       " 2,\n",
       " 8,\n",
       " 6,\n",
       " 4,\n",
       " 1,\n",
       " 4,\n",
       " 9,\n",
       " 6,\n",
       " 2,\n",
       " 6,\n",
       " 1,\n",
       " 6]"
      ]
     },
     "execution_count": 17,
     "metadata": {},
     "output_type": "execute_result"
    }
   ],
   "source": [
    "probability_arr"
   ]
  },
  {
   "cell_type": "code",
   "execution_count": 18,
   "id": "189ae68c",
   "metadata": {},
   "outputs": [
    {
     "data": {
      "text/plain": [
       "100"
      ]
     },
     "execution_count": 18,
     "metadata": {},
     "output_type": "execute_result"
    }
   ],
   "source": [
    "len(probability_arr)"
   ]
  },
  {
   "cell_type": "code",
   "execution_count": 19,
   "id": "5d490e10",
   "metadata": {},
   "outputs": [
    {
     "data": {
      "text/plain": [
       "tensor([4, 4, 3, 8, 8, 4, 5, 1, 2, 5, 3, 3, 5, 2, 4, 6, 7, 3, 7, 2, 6, 2, 1, 4,\n",
       "        6, 4, 9, 7, 0, 3, 4, 6, 4, 2, 8, 1, 7, 5, 6, 0, 7, 4, 9, 4, 0, 2, 7, 0,\n",
       "        9, 5, 2, 7, 3, 8, 3, 3, 7, 0, 2, 6, 3, 0, 0, 7, 3, 5, 7, 4, 2, 9, 8, 8,\n",
       "        5, 1, 5, 5, 6, 9, 0, 4, 0, 2, 3, 5, 9, 0, 1, 5, 2, 8, 6, 1, 1, 4, 9, 8,\n",
       "        2, 6, 1, 6])"
      ]
     },
     "execution_count": 19,
     "metadata": {},
     "output_type": "execute_result"
    }
   ],
   "source": [
    "batch_y_tensor"
   ]
  },
  {
   "cell_type": "code",
   "execution_count": 20,
   "id": "73a56e84",
   "metadata": {},
   "outputs": [
    {
     "data": {
      "text/plain": [
       "100"
      ]
     },
     "execution_count": 20,
     "metadata": {},
     "output_type": "execute_result"
    }
   ],
   "source": [
    "len(batch_y_tensor)"
   ]
  },
  {
   "cell_type": "code",
   "execution_count": 21,
   "id": "551bcfde",
   "metadata": {},
   "outputs": [
    {
     "name": "stdout",
     "output_type": "stream",
     "text": [
      "Accuracy =  91.0 %\n"
     ]
    }
   ],
   "source": [
    "acc = sum(1 for x,y in zip(probability_arr,batch_y_tensor) if x == y) / len(probability_arr)\n",
    "print(\"Accuracy = \", acc*100,\"%\")"
   ]
  },
  {
   "cell_type": "code",
   "execution_count": 22,
   "id": "20966c37",
   "metadata": {},
   "outputs": [
    {
     "data": {
      "image/png": "[encoded data removed]",
      "text/plain": [
       "<Figure size 432x288 with 2 Axes>"
      ]
     },
     "metadata": {
      "image/png": {
       "height": 265,
       "width": 306
      },
      "needs_background": "light"
     },
     "output_type": "display_data"
    }
   ],
   "source": [
    "from sklearn.metrics import confusion_matrix, ConfusionMatrixDisplay\n",
    "\n",
    "y_true = batch_y_tensor\n",
    "y_pred = probability_arr\n",
    "\n",
    "cm = confusion_matrix(y_true, y_pred)\n",
    "disp = ConfusionMatrixDisplay(confusion_matrix=cm)\n",
    "disp.plot()\n",
    "plt.show()"
   ]
  },
  {
   "cell_type": "code",
   "execution_count": null,
   "id": "4bd73ad1",
   "metadata": {},
   "outputs": [],
   "source": []
  }
 ],
 "metadata": {
  "kernelspec": {
   "display_name": "Python 3 (ipykernel)",
   "language": "python",
   "name": "python3"
  },
  "language_info": {
   "codemirror_mode": {
    "name": "ipython",
    "version": 3
   },
   "file_extension": ".py",
   "mimetype": "text/x-python",
   "name": "python",
   "nbconvert_exporter": "python",
   "pygments_lexer": "ipython3",
   "version": "3.9.12"
  }
 },
 "nbformat": 4,
 "nbformat_minor": 5
}
